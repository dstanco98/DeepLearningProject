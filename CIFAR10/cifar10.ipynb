{
  "nbformat": 4,
  "nbformat_minor": 0,
  "metadata": {
    "colab": {
      "provenance": []
    },
    "kernelspec": {
      "name": "python3",
      "display_name": "Python 3"
    },
    "language_info": {
      "name": "python"
    },
    "accelerator": "GPU",
    "gpuClass": "standard",
    "widgets": {
      "application/vnd.jupyter.widget-state+json": {
        "b0765a922323409d8ac394b14c096961": {
          "model_module": "@jupyter-widgets/controls",
          "model_name": "HBoxModel",
          "model_module_version": "1.5.0",
          "state": {
            "_dom_classes": [],
            "_model_module": "@jupyter-widgets/controls",
            "_model_module_version": "1.5.0",
            "_model_name": "HBoxModel",
            "_view_count": null,
            "_view_module": "@jupyter-widgets/controls",
            "_view_module_version": "1.5.0",
            "_view_name": "HBoxView",
            "box_style": "",
            "children": [
              "IPY_MODEL_8ca881ced22045abb2eabfe0ce7e3051",
              "IPY_MODEL_a8d8f64c9d544bc1ab881bd110d3213b",
              "IPY_MODEL_05e39d38e41c4d938be99043b368cbcd"
            ],
            "layout": "IPY_MODEL_b1984fe82436403e8f647e6e78bc9a80"
          }
        },
        "8ca881ced22045abb2eabfe0ce7e3051": {
          "model_module": "@jupyter-widgets/controls",
          "model_name": "HTMLModel",
          "model_module_version": "1.5.0",
          "state": {
            "_dom_classes": [],
            "_model_module": "@jupyter-widgets/controls",
            "_model_module_version": "1.5.0",
            "_model_name": "HTMLModel",
            "_view_count": null,
            "_view_module": "@jupyter-widgets/controls",
            "_view_module_version": "1.5.0",
            "_view_name": "HTMLView",
            "description": "",
            "description_tooltip": null,
            "layout": "IPY_MODEL_54c0783ec9f34894936911538544a8b6",
            "placeholder": "​",
            "style": "IPY_MODEL_ec0d372441f045b3b2d6891a711b273b",
            "value": "100%"
          }
        },
        "a8d8f64c9d544bc1ab881bd110d3213b": {
          "model_module": "@jupyter-widgets/controls",
          "model_name": "FloatProgressModel",
          "model_module_version": "1.5.0",
          "state": {
            "_dom_classes": [],
            "_model_module": "@jupyter-widgets/controls",
            "_model_module_version": "1.5.0",
            "_model_name": "FloatProgressModel",
            "_view_count": null,
            "_view_module": "@jupyter-widgets/controls",
            "_view_module_version": "1.5.0",
            "_view_name": "ProgressView",
            "bar_style": "success",
            "description": "",
            "description_tooltip": null,
            "layout": "IPY_MODEL_e104bbb69d60436fa934846fd795947c",
            "max": 170498071,
            "min": 0,
            "orientation": "horizontal",
            "style": "IPY_MODEL_9b9f7e5ce74848d691514ccaa18b87d0",
            "value": 170498071
          }
        },
        "05e39d38e41c4d938be99043b368cbcd": {
          "model_module": "@jupyter-widgets/controls",
          "model_name": "HTMLModel",
          "model_module_version": "1.5.0",
          "state": {
            "_dom_classes": [],
            "_model_module": "@jupyter-widgets/controls",
            "_model_module_version": "1.5.0",
            "_model_name": "HTMLModel",
            "_view_count": null,
            "_view_module": "@jupyter-widgets/controls",
            "_view_module_version": "1.5.0",
            "_view_name": "HTMLView",
            "description": "",
            "description_tooltip": null,
            "layout": "IPY_MODEL_af4458e10dd04d24bb6a3ed4603977bc",
            "placeholder": "​",
            "style": "IPY_MODEL_c3e013680b5a49ccb12b82d45549d35b",
            "value": " 170498071/170498071 [00:01&lt;00:00, 101371290.15it/s]"
          }
        },
        "b1984fe82436403e8f647e6e78bc9a80": {
          "model_module": "@jupyter-widgets/base",
          "model_name": "LayoutModel",
          "model_module_version": "1.2.0",
          "state": {
            "_model_module": "@jupyter-widgets/base",
            "_model_module_version": "1.2.0",
            "_model_name": "LayoutModel",
            "_view_count": null,
            "_view_module": "@jupyter-widgets/base",
            "_view_module_version": "1.2.0",
            "_view_name": "LayoutView",
            "align_content": null,
            "align_items": null,
            "align_self": null,
            "border": null,
            "bottom": null,
            "display": null,
            "flex": null,
            "flex_flow": null,
            "grid_area": null,
            "grid_auto_columns": null,
            "grid_auto_flow": null,
            "grid_auto_rows": null,
            "grid_column": null,
            "grid_gap": null,
            "grid_row": null,
            "grid_template_areas": null,
            "grid_template_columns": null,
            "grid_template_rows": null,
            "height": null,
            "justify_content": null,
            "justify_items": null,
            "left": null,
            "margin": null,
            "max_height": null,
            "max_width": null,
            "min_height": null,
            "min_width": null,
            "object_fit": null,
            "object_position": null,
            "order": null,
            "overflow": null,
            "overflow_x": null,
            "overflow_y": null,
            "padding": null,
            "right": null,
            "top": null,
            "visibility": null,
            "width": null
          }
        },
        "54c0783ec9f34894936911538544a8b6": {
          "model_module": "@jupyter-widgets/base",
          "model_name": "LayoutModel",
          "model_module_version": "1.2.0",
          "state": {
            "_model_module": "@jupyter-widgets/base",
            "_model_module_version": "1.2.0",
            "_model_name": "LayoutModel",
            "_view_count": null,
            "_view_module": "@jupyter-widgets/base",
            "_view_module_version": "1.2.0",
            "_view_name": "LayoutView",
            "align_content": null,
            "align_items": null,
            "align_self": null,
            "border": null,
            "bottom": null,
            "display": null,
            "flex": null,
            "flex_flow": null,
            "grid_area": null,
            "grid_auto_columns": null,
            "grid_auto_flow": null,
            "grid_auto_rows": null,
            "grid_column": null,
            "grid_gap": null,
            "grid_row": null,
            "grid_template_areas": null,
            "grid_template_columns": null,
            "grid_template_rows": null,
            "height": null,
            "justify_content": null,
            "justify_items": null,
            "left": null,
            "margin": null,
            "max_height": null,
            "max_width": null,
            "min_height": null,
            "min_width": null,
            "object_fit": null,
            "object_position": null,
            "order": null,
            "overflow": null,
            "overflow_x": null,
            "overflow_y": null,
            "padding": null,
            "right": null,
            "top": null,
            "visibility": null,
            "width": null
          }
        },
        "ec0d372441f045b3b2d6891a711b273b": {
          "model_module": "@jupyter-widgets/controls",
          "model_name": "DescriptionStyleModel",
          "model_module_version": "1.5.0",
          "state": {
            "_model_module": "@jupyter-widgets/controls",
            "_model_module_version": "1.5.0",
            "_model_name": "DescriptionStyleModel",
            "_view_count": null,
            "_view_module": "@jupyter-widgets/base",
            "_view_module_version": "1.2.0",
            "_view_name": "StyleView",
            "description_width": ""
          }
        },
        "e104bbb69d60436fa934846fd795947c": {
          "model_module": "@jupyter-widgets/base",
          "model_name": "LayoutModel",
          "model_module_version": "1.2.0",
          "state": {
            "_model_module": "@jupyter-widgets/base",
            "_model_module_version": "1.2.0",
            "_model_name": "LayoutModel",
            "_view_count": null,
            "_view_module": "@jupyter-widgets/base",
            "_view_module_version": "1.2.0",
            "_view_name": "LayoutView",
            "align_content": null,
            "align_items": null,
            "align_self": null,
            "border": null,
            "bottom": null,
            "display": null,
            "flex": null,
            "flex_flow": null,
            "grid_area": null,
            "grid_auto_columns": null,
            "grid_auto_flow": null,
            "grid_auto_rows": null,
            "grid_column": null,
            "grid_gap": null,
            "grid_row": null,
            "grid_template_areas": null,
            "grid_template_columns": null,
            "grid_template_rows": null,
            "height": null,
            "justify_content": null,
            "justify_items": null,
            "left": null,
            "margin": null,
            "max_height": null,
            "max_width": null,
            "min_height": null,
            "min_width": null,
            "object_fit": null,
            "object_position": null,
            "order": null,
            "overflow": null,
            "overflow_x": null,
            "overflow_y": null,
            "padding": null,
            "right": null,
            "top": null,
            "visibility": null,
            "width": null
          }
        },
        "9b9f7e5ce74848d691514ccaa18b87d0": {
          "model_module": "@jupyter-widgets/controls",
          "model_name": "ProgressStyleModel",
          "model_module_version": "1.5.0",
          "state": {
            "_model_module": "@jupyter-widgets/controls",
            "_model_module_version": "1.5.0",
            "_model_name": "ProgressStyleModel",
            "_view_count": null,
            "_view_module": "@jupyter-widgets/base",
            "_view_module_version": "1.2.0",
            "_view_name": "StyleView",
            "bar_color": null,
            "description_width": ""
          }
        },
        "af4458e10dd04d24bb6a3ed4603977bc": {
          "model_module": "@jupyter-widgets/base",
          "model_name": "LayoutModel",
          "model_module_version": "1.2.0",
          "state": {
            "_model_module": "@jupyter-widgets/base",
            "_model_module_version": "1.2.0",
            "_model_name": "LayoutModel",
            "_view_count": null,
            "_view_module": "@jupyter-widgets/base",
            "_view_module_version": "1.2.0",
            "_view_name": "LayoutView",
            "align_content": null,
            "align_items": null,
            "align_self": null,
            "border": null,
            "bottom": null,
            "display": null,
            "flex": null,
            "flex_flow": null,
            "grid_area": null,
            "grid_auto_columns": null,
            "grid_auto_flow": null,
            "grid_auto_rows": null,
            "grid_column": null,
            "grid_gap": null,
            "grid_row": null,
            "grid_template_areas": null,
            "grid_template_columns": null,
            "grid_template_rows": null,
            "height": null,
            "justify_content": null,
            "justify_items": null,
            "left": null,
            "margin": null,
            "max_height": null,
            "max_width": null,
            "min_height": null,
            "min_width": null,
            "object_fit": null,
            "object_position": null,
            "order": null,
            "overflow": null,
            "overflow_x": null,
            "overflow_y": null,
            "padding": null,
            "right": null,
            "top": null,
            "visibility": null,
            "width": null
          }
        },
        "c3e013680b5a49ccb12b82d45549d35b": {
          "model_module": "@jupyter-widgets/controls",
          "model_name": "DescriptionStyleModel",
          "model_module_version": "1.5.0",
          "state": {
            "_model_module": "@jupyter-widgets/controls",
            "_model_module_version": "1.5.0",
            "_model_name": "DescriptionStyleModel",
            "_view_count": null,
            "_view_module": "@jupyter-widgets/base",
            "_view_module_version": "1.2.0",
            "_view_name": "StyleView",
            "description_width": ""
          }
        }
      }
    }
  },
  "cells": [
    {
      "cell_type": "markdown",
      "source": [
        "# Deep Learning Project\n",
        "# A.A 2021/2022\n",
        "# Student: Donato Francesco Pio Stanco 2027523"
      ],
      "metadata": {
        "id": "Qyh1p28E6wVq"
      }
    },
    {
      "cell_type": "markdown",
      "source": [
        "## Group Equivariant Convolutional Networks"
      ],
      "metadata": {
        "id": "yOHvnBxH6yBp"
      }
    },
    {
      "cell_type": "markdown",
      "source": [
        "Group equivariant Convolutional Neural Networks (**G-CNNs**), are a natural generalization of *convolutional neural networks* that reduces sample complexity by exploiting symmetries.\n",
        "\n",
        "An example of this kind of network is provided in the following image, where we can observe a **p4m feature map and its rotation by r**."
      ],
      "metadata": {
        "id": "vwdz6k4E61IA"
      }
    },
    {
      "cell_type": "markdown",
      "source": [
        "![network2.png](data:image/png;base64,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)"
      ],
      "metadata": {
        "id": "lCrkD0j1JhgI"
      }
    },
    {
      "cell_type": "markdown",
      "source": [
        "## Experiment with CIFAR10"
      ],
      "metadata": {
        "id": "qa0vSeH364oL"
      }
    },
    {
      "cell_type": "code",
      "source": [
        "# Here I do the git clone of only repositories, the one that contains the G-CNN \n",
        "# experiment\n",
        "!git clone https://github.com/adambielski/GrouPy.git"
      ],
      "metadata": {
        "colab": {
          "base_uri": "https://localhost:8080/"
        },
        "id": "1XagmAqo67DM",
        "outputId": "e800bafa-f0eb-48e6-ecbe-f3e31be51c75"
      },
      "execution_count": null,
      "outputs": [
        {
          "output_type": "stream",
          "name": "stdout",
          "text": [
            "Cloning into 'GrouPy'...\n",
            "remote: Enumerating objects: 167, done.\u001b[K\n",
            "remote: Counting objects: 100% (48/48), done.\u001b[K\n",
            "remote: Compressing objects: 100% (15/15), done.\u001b[K\n",
            "remote: Total 167 (delta 35), reused 33 (delta 33), pack-reused 119\u001b[K\n",
            "Receiving objects: 100% (167/167), 141.59 KiB | 2.53 MiB/s, done.\n",
            "Resolving deltas: 100% (75/75), done.\n"
          ]
        }
      ]
    },
    {
      "cell_type": "markdown",
      "source": [
        "In the next cell I declare some variable in order to load the trained model from my Google Drive. As first option I tried to use Git LFS but this produced some problems with the pickle so I decided to upload the model trained on Kaggle on my personal Drive. The trained model is also available on my personal GitHub repository of the project but it is not possible to use directly due to the reasons mentioned above."
      ],
      "metadata": {
        "id": "4zvnS594M-0q"
      }
    },
    {
      "cell_type": "code",
      "source": [
        "# GOOGLE DRIVE\n",
        "GDRIVE_DIR = \"/content/gdrive\" # My mount point on Google Drive\n",
        "GDRIVE_HOME_DIR = GDRIVE_DIR + \"/My Drive\" # My home directory\n",
        "GDRIVE_DATA_DIR = GDRIVE_HOME_DIR +  \"/DeepLearning_trained_models\" # Directory where the model is saved\n",
        "GDRIVE_DATA_FILE = GDRIVE_DATA_DIR + \"/ckpt.pt\" # Name of the model"
      ],
      "metadata": {
        "id": "5-yqSE8-9816"
      },
      "execution_count": null,
      "outputs": []
    },
    {
      "cell_type": "code",
      "source": [
        "%cd GrouPy/\n",
        "!python setup.py install\n",
        "%cd .."
      ],
      "metadata": {
        "colab": {
          "base_uri": "https://localhost:8080/"
        },
        "id": "uamHoZU369DN",
        "outputId": "12ff0808-56be-4ca5-d28d-93182ebe49fa"
      },
      "execution_count": null,
      "outputs": [
        {
          "output_type": "stream",
          "name": "stdout",
          "text": [
            "/content/GrouPy\n",
            "running install\n",
            "running build\n",
            "running build_py\n",
            "creating build\n",
            "creating build/lib\n",
            "creating build/lib/groupy\n",
            "copying groupy/__init__.py -> build/lib/groupy\n",
            "creating build/lib/groupy/garray\n",
            "copying groupy/garray/garray.py -> build/lib/groupy/garray\n",
            "copying groupy/garray/C4_array.py -> build/lib/groupy/garray\n",
            "copying groupy/garray/p4_array.py -> build/lib/groupy/garray\n",
            "copying groupy/garray/Z2_array.py -> build/lib/groupy/garray\n",
            "copying groupy/garray/matrix_garray.py -> build/lib/groupy/garray\n",
            "copying groupy/garray/__init__.py -> build/lib/groupy/garray\n",
            "copying groupy/garray/D4_array.py -> build/lib/groupy/garray\n",
            "copying groupy/garray/test_garray.py -> build/lib/groupy/garray\n",
            "copying groupy/garray/finitegroup.py -> build/lib/groupy/garray\n",
            "copying groupy/garray/p4m_array.py -> build/lib/groupy/garray\n",
            "creating build/lib/groupy/gconv\n",
            "copying groupy/gconv/__init__.py -> build/lib/groupy/gconv\n",
            "copying groupy/gconv/make_gconv_indices.py -> build/lib/groupy/gconv\n",
            "creating build/lib/groupy/gconv/chainer_gconv\n",
            "copying groupy/gconv/chainer_gconv/test_gconv.py -> build/lib/groupy/gconv/chainer_gconv\n",
            "copying groupy/gconv/chainer_gconv/p4m_conv.py -> build/lib/groupy/gconv/chainer_gconv\n",
            "copying groupy/gconv/chainer_gconv/__init__.py -> build/lib/groupy/gconv/chainer_gconv\n",
            "copying groupy/gconv/chainer_gconv/splitgconv2d.py -> build/lib/groupy/gconv/chainer_gconv\n",
            "copying groupy/gconv/chainer_gconv/transform_filter.py -> build/lib/groupy/gconv/chainer_gconv\n",
            "copying groupy/gconv/chainer_gconv/p4_conv.py -> build/lib/groupy/gconv/chainer_gconv\n",
            "copying groupy/gconv/chainer_gconv/test_transform_filter.py -> build/lib/groupy/gconv/chainer_gconv\n",
            "creating build/lib/groupy/gconv/theano_gconv\n",
            "copying groupy/gconv/theano_gconv/__init__.py -> build/lib/groupy/gconv/theano_gconv\n",
            "creating build/lib/groupy/gconv/tensorflow_gconv\n",
            "copying groupy/gconv/tensorflow_gconv/check_gconv2d.py -> build/lib/groupy/gconv/tensorflow_gconv\n",
            "copying groupy/gconv/tensorflow_gconv/__init__.py -> build/lib/groupy/gconv/tensorflow_gconv\n",
            "copying groupy/gconv/tensorflow_gconv/splitgconv2d.py -> build/lib/groupy/gconv/tensorflow_gconv\n",
            "copying groupy/gconv/tensorflow_gconv/transform_filter.py -> build/lib/groupy/gconv/tensorflow_gconv\n",
            "copying groupy/gconv/tensorflow_gconv/check_transform_filter.py -> build/lib/groupy/gconv/tensorflow_gconv\n",
            "creating build/lib/groupy/gconv/pytorch_gconv\n",
            "copying groupy/gconv/pytorch_gconv/check_gconv2d.py -> build/lib/groupy/gconv/pytorch_gconv\n",
            "copying groupy/gconv/pytorch_gconv/__init__.py -> build/lib/groupy/gconv/pytorch_gconv\n",
            "copying groupy/gconv/pytorch_gconv/pooling.py -> build/lib/groupy/gconv/pytorch_gconv\n",
            "copying groupy/gconv/pytorch_gconv/splitgconv2d.py -> build/lib/groupy/gconv/pytorch_gconv\n",
            "copying groupy/gconv/pytorch_gconv/check_transform_filter.py -> build/lib/groupy/gconv/pytorch_gconv\n",
            "creating build/lib/groupy/gfunc\n",
            "copying groupy/gfunc/test_gfuncarray.py -> build/lib/groupy/gfunc\n",
            "copying groupy/gfunc/p4func_array.py -> build/lib/groupy/gfunc\n",
            "copying groupy/gfunc/p4mfunc_array.py -> build/lib/groupy/gfunc\n",
            "copying groupy/gfunc/__init__.py -> build/lib/groupy/gfunc\n",
            "copying groupy/gfunc/z2func_array.py -> build/lib/groupy/gfunc\n",
            "copying groupy/gfunc/gfuncarray.py -> build/lib/groupy/gfunc\n",
            "creating build/lib/groupy/gfunc/plot\n",
            "copying groupy/gfunc/plot/plot_p4m.py -> build/lib/groupy/gfunc/plot\n",
            "copying groupy/gfunc/plot/plot_z2.py -> build/lib/groupy/gfunc/plot\n",
            "copying groupy/gfunc/plot/__init__.py -> build/lib/groupy/gfunc/plot\n",
            "copying groupy/gfunc/plot/plot_p4.py -> build/lib/groupy/gfunc/plot\n",
            "running install_lib\n",
            "creating /usr/local/lib/python3.7/dist-packages/groupy\n",
            "creating /usr/local/lib/python3.7/dist-packages/groupy/garray\n",
            "copying build/lib/groupy/garray/garray.py -> /usr/local/lib/python3.7/dist-packages/groupy/garray\n",
            "copying build/lib/groupy/garray/C4_array.py -> /usr/local/lib/python3.7/dist-packages/groupy/garray\n",
            "copying build/lib/groupy/garray/p4_array.py -> /usr/local/lib/python3.7/dist-packages/groupy/garray\n",
            "copying build/lib/groupy/garray/Z2_array.py -> /usr/local/lib/python3.7/dist-packages/groupy/garray\n",
            "copying build/lib/groupy/garray/matrix_garray.py -> /usr/local/lib/python3.7/dist-packages/groupy/garray\n",
            "copying build/lib/groupy/garray/__init__.py -> /usr/local/lib/python3.7/dist-packages/groupy/garray\n",
            "copying build/lib/groupy/garray/D4_array.py -> /usr/local/lib/python3.7/dist-packages/groupy/garray\n",
            "copying build/lib/groupy/garray/test_garray.py -> /usr/local/lib/python3.7/dist-packages/groupy/garray\n",
            "copying build/lib/groupy/garray/finitegroup.py -> /usr/local/lib/python3.7/dist-packages/groupy/garray\n",
            "copying build/lib/groupy/garray/p4m_array.py -> /usr/local/lib/python3.7/dist-packages/groupy/garray\n",
            "copying build/lib/groupy/__init__.py -> /usr/local/lib/python3.7/dist-packages/groupy\n",
            "creating /usr/local/lib/python3.7/dist-packages/groupy/gconv\n",
            "creating /usr/local/lib/python3.7/dist-packages/groupy/gconv/tensorflow_gconv\n",
            "copying build/lib/groupy/gconv/tensorflow_gconv/check_gconv2d.py -> /usr/local/lib/python3.7/dist-packages/groupy/gconv/tensorflow_gconv\n",
            "copying build/lib/groupy/gconv/tensorflow_gconv/__init__.py -> /usr/local/lib/python3.7/dist-packages/groupy/gconv/tensorflow_gconv\n",
            "copying build/lib/groupy/gconv/tensorflow_gconv/splitgconv2d.py -> /usr/local/lib/python3.7/dist-packages/groupy/gconv/tensorflow_gconv\n",
            "copying build/lib/groupy/gconv/tensorflow_gconv/transform_filter.py -> /usr/local/lib/python3.7/dist-packages/groupy/gconv/tensorflow_gconv\n",
            "copying build/lib/groupy/gconv/tensorflow_gconv/check_transform_filter.py -> /usr/local/lib/python3.7/dist-packages/groupy/gconv/tensorflow_gconv\n",
            "creating /usr/local/lib/python3.7/dist-packages/groupy/gconv/pytorch_gconv\n",
            "copying build/lib/groupy/gconv/pytorch_gconv/check_gconv2d.py -> /usr/local/lib/python3.7/dist-packages/groupy/gconv/pytorch_gconv\n",
            "copying build/lib/groupy/gconv/pytorch_gconv/__init__.py -> /usr/local/lib/python3.7/dist-packages/groupy/gconv/pytorch_gconv\n",
            "copying build/lib/groupy/gconv/pytorch_gconv/pooling.py -> /usr/local/lib/python3.7/dist-packages/groupy/gconv/pytorch_gconv\n",
            "copying build/lib/groupy/gconv/pytorch_gconv/splitgconv2d.py -> /usr/local/lib/python3.7/dist-packages/groupy/gconv/pytorch_gconv\n",
            "copying build/lib/groupy/gconv/pytorch_gconv/check_transform_filter.py -> /usr/local/lib/python3.7/dist-packages/groupy/gconv/pytorch_gconv\n",
            "creating /usr/local/lib/python3.7/dist-packages/groupy/gconv/theano_gconv\n",
            "copying build/lib/groupy/gconv/theano_gconv/__init__.py -> /usr/local/lib/python3.7/dist-packages/groupy/gconv/theano_gconv\n",
            "copying build/lib/groupy/gconv/__init__.py -> /usr/local/lib/python3.7/dist-packages/groupy/gconv\n",
            "copying build/lib/groupy/gconv/make_gconv_indices.py -> /usr/local/lib/python3.7/dist-packages/groupy/gconv\n",
            "creating /usr/local/lib/python3.7/dist-packages/groupy/gconv/chainer_gconv\n",
            "copying build/lib/groupy/gconv/chainer_gconv/test_gconv.py -> /usr/local/lib/python3.7/dist-packages/groupy/gconv/chainer_gconv\n",
            "copying build/lib/groupy/gconv/chainer_gconv/p4m_conv.py -> /usr/local/lib/python3.7/dist-packages/groupy/gconv/chainer_gconv\n",
            "copying build/lib/groupy/gconv/chainer_gconv/__init__.py -> /usr/local/lib/python3.7/dist-packages/groupy/gconv/chainer_gconv\n",
            "copying build/lib/groupy/gconv/chainer_gconv/splitgconv2d.py -> /usr/local/lib/python3.7/dist-packages/groupy/gconv/chainer_gconv\n",
            "copying build/lib/groupy/gconv/chainer_gconv/transform_filter.py -> /usr/local/lib/python3.7/dist-packages/groupy/gconv/chainer_gconv\n",
            "copying build/lib/groupy/gconv/chainer_gconv/p4_conv.py -> /usr/local/lib/python3.7/dist-packages/groupy/gconv/chainer_gconv\n",
            "copying build/lib/groupy/gconv/chainer_gconv/test_transform_filter.py -> /usr/local/lib/python3.7/dist-packages/groupy/gconv/chainer_gconv\n",
            "creating /usr/local/lib/python3.7/dist-packages/groupy/gfunc\n",
            "creating /usr/local/lib/python3.7/dist-packages/groupy/gfunc/plot\n",
            "copying build/lib/groupy/gfunc/plot/plot_p4m.py -> /usr/local/lib/python3.7/dist-packages/groupy/gfunc/plot\n",
            "copying build/lib/groupy/gfunc/plot/plot_z2.py -> /usr/local/lib/python3.7/dist-packages/groupy/gfunc/plot\n",
            "copying build/lib/groupy/gfunc/plot/__init__.py -> /usr/local/lib/python3.7/dist-packages/groupy/gfunc/plot\n",
            "copying build/lib/groupy/gfunc/plot/plot_p4.py -> /usr/local/lib/python3.7/dist-packages/groupy/gfunc/plot\n",
            "copying build/lib/groupy/gfunc/test_gfuncarray.py -> /usr/local/lib/python3.7/dist-packages/groupy/gfunc\n",
            "copying build/lib/groupy/gfunc/p4func_array.py -> /usr/local/lib/python3.7/dist-packages/groupy/gfunc\n",
            "copying build/lib/groupy/gfunc/p4mfunc_array.py -> /usr/local/lib/python3.7/dist-packages/groupy/gfunc\n",
            "copying build/lib/groupy/gfunc/__init__.py -> /usr/local/lib/python3.7/dist-packages/groupy/gfunc\n",
            "copying build/lib/groupy/gfunc/z2func_array.py -> /usr/local/lib/python3.7/dist-packages/groupy/gfunc\n",
            "copying build/lib/groupy/gfunc/gfuncarray.py -> /usr/local/lib/python3.7/dist-packages/groupy/gfunc\n",
            "byte-compiling /usr/local/lib/python3.7/dist-packages/groupy/garray/garray.py to garray.cpython-37.pyc\n",
            "byte-compiling /usr/local/lib/python3.7/dist-packages/groupy/garray/C4_array.py to C4_array.cpython-37.pyc\n",
            "byte-compiling /usr/local/lib/python3.7/dist-packages/groupy/garray/p4_array.py to p4_array.cpython-37.pyc\n",
            "byte-compiling /usr/local/lib/python3.7/dist-packages/groupy/garray/Z2_array.py to Z2_array.cpython-37.pyc\n",
            "byte-compiling /usr/local/lib/python3.7/dist-packages/groupy/garray/matrix_garray.py to matrix_garray.cpython-37.pyc\n",
            "byte-compiling /usr/local/lib/python3.7/dist-packages/groupy/garray/__init__.py to __init__.cpython-37.pyc\n",
            "byte-compiling /usr/local/lib/python3.7/dist-packages/groupy/garray/D4_array.py to D4_array.cpython-37.pyc\n",
            "byte-compiling /usr/local/lib/python3.7/dist-packages/groupy/garray/test_garray.py to test_garray.cpython-37.pyc\n",
            "byte-compiling /usr/local/lib/python3.7/dist-packages/groupy/garray/finitegroup.py to finitegroup.cpython-37.pyc\n",
            "byte-compiling /usr/local/lib/python3.7/dist-packages/groupy/garray/p4m_array.py to p4m_array.cpython-37.pyc\n",
            "byte-compiling /usr/local/lib/python3.7/dist-packages/groupy/__init__.py to __init__.cpython-37.pyc\n",
            "byte-compiling /usr/local/lib/python3.7/dist-packages/groupy/gconv/tensorflow_gconv/check_gconv2d.py to check_gconv2d.cpython-37.pyc\n",
            "byte-compiling /usr/local/lib/python3.7/dist-packages/groupy/gconv/tensorflow_gconv/__init__.py to __init__.cpython-37.pyc\n",
            "byte-compiling /usr/local/lib/python3.7/dist-packages/groupy/gconv/tensorflow_gconv/splitgconv2d.py to splitgconv2d.cpython-37.pyc\n",
            "byte-compiling /usr/local/lib/python3.7/dist-packages/groupy/gconv/tensorflow_gconv/transform_filter.py to transform_filter.cpython-37.pyc\n",
            "byte-compiling /usr/local/lib/python3.7/dist-packages/groupy/gconv/tensorflow_gconv/check_transform_filter.py to check_transform_filter.cpython-37.pyc\n",
            "byte-compiling /usr/local/lib/python3.7/dist-packages/groupy/gconv/pytorch_gconv/check_gconv2d.py to check_gconv2d.cpython-37.pyc\n",
            "byte-compiling /usr/local/lib/python3.7/dist-packages/groupy/gconv/pytorch_gconv/__init__.py to __init__.cpython-37.pyc\n",
            "byte-compiling /usr/local/lib/python3.7/dist-packages/groupy/gconv/pytorch_gconv/pooling.py to pooling.cpython-37.pyc\n",
            "byte-compiling /usr/local/lib/python3.7/dist-packages/groupy/gconv/pytorch_gconv/splitgconv2d.py to splitgconv2d.cpython-37.pyc\n",
            "byte-compiling /usr/local/lib/python3.7/dist-packages/groupy/gconv/pytorch_gconv/check_transform_filter.py to check_transform_filter.cpython-37.pyc\n",
            "byte-compiling /usr/local/lib/python3.7/dist-packages/groupy/gconv/theano_gconv/__init__.py to __init__.cpython-37.pyc\n",
            "byte-compiling /usr/local/lib/python3.7/dist-packages/groupy/gconv/__init__.py to __init__.cpython-37.pyc\n",
            "byte-compiling /usr/local/lib/python3.7/dist-packages/groupy/gconv/make_gconv_indices.py to make_gconv_indices.cpython-37.pyc\n",
            "byte-compiling /usr/local/lib/python3.7/dist-packages/groupy/gconv/chainer_gconv/test_gconv.py to test_gconv.cpython-37.pyc\n",
            "byte-compiling /usr/local/lib/python3.7/dist-packages/groupy/gconv/chainer_gconv/p4m_conv.py to p4m_conv.cpython-37.pyc\n",
            "byte-compiling /usr/local/lib/python3.7/dist-packages/groupy/gconv/chainer_gconv/__init__.py to __init__.cpython-37.pyc\n",
            "byte-compiling /usr/local/lib/python3.7/dist-packages/groupy/gconv/chainer_gconv/splitgconv2d.py to splitgconv2d.cpython-37.pyc\n",
            "byte-compiling /usr/local/lib/python3.7/dist-packages/groupy/gconv/chainer_gconv/transform_filter.py to transform_filter.cpython-37.pyc\n",
            "byte-compiling /usr/local/lib/python3.7/dist-packages/groupy/gconv/chainer_gconv/p4_conv.py to p4_conv.cpython-37.pyc\n",
            "byte-compiling /usr/local/lib/python3.7/dist-packages/groupy/gconv/chainer_gconv/test_transform_filter.py to test_transform_filter.cpython-37.pyc\n",
            "byte-compiling /usr/local/lib/python3.7/dist-packages/groupy/gfunc/plot/plot_p4m.py to plot_p4m.cpython-37.pyc\n",
            "byte-compiling /usr/local/lib/python3.7/dist-packages/groupy/gfunc/plot/plot_z2.py to plot_z2.cpython-37.pyc\n",
            "byte-compiling /usr/local/lib/python3.7/dist-packages/groupy/gfunc/plot/__init__.py to __init__.cpython-37.pyc\n",
            "byte-compiling /usr/local/lib/python3.7/dist-packages/groupy/gfunc/plot/plot_p4.py to plot_p4.cpython-37.pyc\n",
            "byte-compiling /usr/local/lib/python3.7/dist-packages/groupy/gfunc/test_gfuncarray.py to test_gfuncarray.cpython-37.pyc\n",
            "byte-compiling /usr/local/lib/python3.7/dist-packages/groupy/gfunc/p4func_array.py to p4func_array.cpython-37.pyc\n",
            "byte-compiling /usr/local/lib/python3.7/dist-packages/groupy/gfunc/p4mfunc_array.py to p4mfunc_array.cpython-37.pyc\n",
            "byte-compiling /usr/local/lib/python3.7/dist-packages/groupy/gfunc/__init__.py to __init__.cpython-37.pyc\n",
            "byte-compiling /usr/local/lib/python3.7/dist-packages/groupy/gfunc/z2func_array.py to z2func_array.cpython-37.pyc\n",
            "byte-compiling /usr/local/lib/python3.7/dist-packages/groupy/gfunc/gfuncarray.py to gfuncarray.cpython-37.pyc\n",
            "running install_egg_info\n",
            "Writing /usr/local/lib/python3.7/dist-packages/GrouPy-0.1.2.egg-info\n",
            "/content\n"
          ]
        }
      ]
    },
    {
      "cell_type": "code",
      "source": [
        "# Here we have useful imports for the experiment\n",
        "from __future__ import print_function\n",
        "import torch\n",
        "import torch.nn as nn\n",
        "import torch.nn.functional as F\n",
        "import torch.optim as optim\n",
        "from torchvision import datasets, transforms, utils\n",
        "import matplotlib.pyplot as plt\n",
        "from torch.optim.lr_scheduler import StepLR\n",
        "from torch.autograd import Variable\n",
        "import numpy as np\n",
        "import plotly.graph_objects as go\n",
        "import plotly.express as px\n",
        "from torch.optim.lr_scheduler import MultiStepLR\n",
        "import torch.backends.cudnn as cudnn"
      ],
      "metadata": {
        "id": "YHj4wYkF6_e3"
      },
      "execution_count": null,
      "outputs": []
    },
    {
      "cell_type": "code",
      "source": [
        "# Point Colaboratory to my Google Drive\n",
        "from google.colab import drive\n",
        "drive.mount(GDRIVE_DIR, force_remount=True)"
      ],
      "metadata": {
        "colab": {
          "base_uri": "https://localhost:8080/"
        },
        "id": "LTYAqveiInzo",
        "outputId": "4ef66d3e-66c0-444b-b65a-898d474ca9de"
      },
      "execution_count": null,
      "outputs": [
        {
          "output_type": "stream",
          "name": "stdout",
          "text": [
            "Mounted at /content/gdrive\n"
          ]
        }
      ]
    },
    {
      "cell_type": "code",
      "source": [
        "# In this cell we download the dataset CIFAR10 for training and testing\n",
        "\n",
        "print('==> Preparing data..')\n",
        "transform_train = transforms.Compose([\n",
        "    transforms.RandomCrop(32, padding=4),\n",
        "    transforms.RandomHorizontalFlip(),\n",
        "    transforms.ToTensor(),\n",
        "    transforms.Normalize((0.4914, 0.4822, 0.4465), (0.2023, 0.1994, 0.2010)),\n",
        "])\n",
        "\n",
        "transform_test = transforms.Compose([\n",
        "    transforms.ToTensor(),\n",
        "    transforms.Normalize((0.4914, 0.4822, 0.4465), (0.2023, 0.1994, 0.2010)),\n",
        "])\n",
        "\n",
        "# Here we download the CIFAR10 dataset (trainset and testset)\n",
        "trainset = datasets.CIFAR10(\n",
        "    root='./data', train=True, download=True, transform=transform_train)\n",
        "trainloader = torch.utils.data.DataLoader(\n",
        "    trainset, batch_size=128, shuffle=True, num_workers=2)\n",
        "\n",
        "testset = datasets.CIFAR10(\n",
        "    root='./data', train=False, download=True, transform=transform_test)\n",
        "testloader = torch.utils.data.DataLoader(\n",
        "    testset, batch_size=100, shuffle=False, num_workers=2)\n",
        "\n",
        "classes = ('plane', 'car', 'bird', 'cat', 'deer',\n",
        "           'dog', 'frog', 'horse', 'ship', 'truck')"
      ],
      "metadata": {
        "colab": {
          "base_uri": "https://localhost:8080/",
          "height": 120,
          "referenced_widgets": [
            "b0765a922323409d8ac394b14c096961",
            "8ca881ced22045abb2eabfe0ce7e3051",
            "a8d8f64c9d544bc1ab881bd110d3213b",
            "05e39d38e41c4d938be99043b368cbcd",
            "b1984fe82436403e8f647e6e78bc9a80",
            "54c0783ec9f34894936911538544a8b6",
            "ec0d372441f045b3b2d6891a711b273b",
            "e104bbb69d60436fa934846fd795947c",
            "9b9f7e5ce74848d691514ccaa18b87d0",
            "af4458e10dd04d24bb6a3ed4603977bc",
            "c3e013680b5a49ccb12b82d45549d35b"
          ]
        },
        "id": "CIabXANG7XUy",
        "outputId": "9dd6e40e-f972-4ac4-bcd2-be574445fa6f"
      },
      "execution_count": null,
      "outputs": [
        {
          "output_type": "stream",
          "name": "stdout",
          "text": [
            "==> Preparing data..\n",
            "Downloading https://www.cs.toronto.edu/~kriz/cifar-10-python.tar.gz to ./data/cifar-10-python.tar.gz\n"
          ]
        },
        {
          "output_type": "display_data",
          "data": {
            "text/plain": [
              "  0%|          | 0/170498071 [00:00<?, ?it/s]"
            ],
            "application/vnd.jupyter.widget-view+json": {
              "version_major": 2,
              "version_minor": 0,
              "model_id": "b0765a922323409d8ac394b14c096961"
            }
          },
          "metadata": {}
        },
        {
          "output_type": "stream",
          "name": "stdout",
          "text": [
            "Extracting ./data/cifar-10-python.tar.gz to ./data\n",
            "Files already downloaded and verified\n"
          ]
        }
      ]
    },
    {
      "cell_type": "code",
      "source": [
        "# Useful function to visualize sample\n",
        "\n",
        "def visualize_samples(inputs, title=None):\n",
        "    \"\"\"\n",
        "    Visualization of transformed samples, a standard call:\n",
        "        inputs, classes = next(iter(dataloaders['train']))\n",
        "        visualize_samples(inputs)\n",
        "    Arguments:\n",
        "    batch_of_samples -- a batch from the dataloader; a PyTorch tensor of shape (batch_size, 3, 224, 224)\n",
        "\n",
        "    Return:\n",
        "    None (A nice plot)\n",
        "    \"\"\"\n",
        "    \n",
        "    # Make a grid from batch\n",
        "    inp = utils.make_grid(inputs, nrow=12)\n",
        "\n",
        "    inp = inp.numpy().transpose((1, 2, 0))\n",
        "    mean = np.array([0.485, 0.456, 0.406])\n",
        "    std = np.array([0.229, 0.224, 0.225])\n",
        "    inp = std * inp + mean\n",
        "    inp = np.clip(inp, 0, 1)  # plotly accepts the colour information both in the 0-1 range and in the 0-255 range\n",
        "    fig = px.imshow(inp, title=title)\n",
        "    fig.show()\n",
        "\n",
        "\n",
        "# Get a batch of training data\n",
        "inputs = [trainset[i][0] for i in range(6)]\n",
        "class_idx = [trainset[i][1] for i in range(6)]\n",
        "\n",
        "\n",
        "visualize_samples(inputs, title=f'Make your prediction, which is the label of each image? The labels are<br> {[x for x in classes]}')    \n",
        "\n",
        "# Solution\n",
        "print(f'Ground truth: {[classes[x] for x in class_idx]}')"
      ],
      "metadata": {
        "colab": {
          "base_uri": "https://localhost:8080/",
          "height": 560
        },
        "id": "_5GJMGyi7ddO",
        "outputId": "28c3806e-6c80-440b-bb03-ce4d1a115e80"
      },
      "execution_count": null,
      "outputs": [
        {
          "output_type": "display_data",
          "data": {
            "text/html": [
              "<html>\n",
              "<head><meta charset=\"utf-8\" /></head>\n",
              "<body>\n",
              "    <div>            <script src=\"https://cdnjs.cloudflare.com/ajax/libs/mathjax/2.7.5/MathJax.js?config=TeX-AMS-MML_SVG\"></script><script type=\"text/javascript\">if (window.MathJax) {MathJax.Hub.Config({SVG: {font: \"STIX-Web\"}});}</script>                <script type=\"text/javascript\">window.PlotlyConfig = {MathJaxConfig: 'local'};</script>\n",
              "        <script src=\"https://cdn.plot.ly/plotly-2.8.3.min.js\"></script>                <div id=\"dfe28891-0608-4514-b8e0-db4dfa239f0d\" class=\"plotly-graph-div\" style=\"height:525px; width:100%;\"></div>            <script type=\"text/javascript\">                                    window.PLOTLYENV=window.PLOTLYENV || {};                                    if (document.getElementById(\"dfe28891-0608-4514-b8e0-db4dfa239f0d\")) {                    Plotly.newPlot(                        \"dfe28891-0608-4514-b8e0-db4dfa239f0d\",                        [{\"name\":\"0\",\"source\":\"data:image/png;base64,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\",\"type\":\"image\",\"xaxis\":\"x\",\"yaxis\":\"y\",\"hovertemplate\":\"x: %{x}<br>y: %{y}<extra></extra>\"}],                        {\"template\":{\"data\":{\"bar\":[{\"error_x\":{\"color\":\"#2a3f5f\"},\"error_y\":{\"color\":\"#2a3f5f\"},\"marker\":{\"line\":{\"color\":\"#E5ECF6\",\"width\":0.5},\"pattern\":{\"fillmode\":\"overlay\",\"size\":10,\"solidity\":0.2}},\"type\":\"bar\"}],\"barpolar\":[{\"marker\":{\"line\":{\"color\":\"#E5ECF6\",\"width\":0.5},\"pattern\":{\"fillmode\":\"overlay\",\"size\":10,\"solidity\":0.2}},\"type\":\"barpolar\"}],\"carpet\":[{\"aaxis\":{\"endlinecolor\":\"#2a3f5f\",\"gridcolor\":\"white\",\"linecolor\":\"white\",\"minorgridcolor\":\"white\",\"startlinecolor\":\"#2a3f5f\"},\"baxis\":{\"endlinecolor\":\"#2a3f5f\",\"gridcolor\":\"white\",\"linecolor\":\"white\",\"minorgridcolor\":\"white\",\"startlinecolor\":\"#2a3f5f\"},\"type\":\"carpet\"}],\"choropleth\":[{\"colorbar\":{\"outlinewidth\":0,\"ticks\":\"\"},\"type\":\"choropleth\"}],\"contour\":[{\"colorbar\":{\"outlinewidth\":0,\"ticks\":\"\"},\"colorscale\":[[0.0,\"#0d0887\"],[0.1111111111111111,\"#46039f\"],[0.2222222222222222,\"#7201a8\"],[0.3333333333333333,\"#9c179e\"],[0.4444444444444444,\"#bd3786\"],[0.5555555555555556,\"#d8576b\"],[0.6666666666666666,\"#ed7953\"],[0.7777777777777778,\"#fb9f3a\"],[0.8888888888888888,\"#fdca26\"],[1.0,\"#f0f921\"]],\"type\":\"contour\"}],\"contourcarpet\":[{\"colorbar\":{\"outlinewidth\":0,\"ticks\":\"\"},\"type\":\"contourcarpet\"}],\"heatmap\":[{\"colorbar\":{\"outlinewidth\":0,\"ticks\":\"\"},\"colorscale\":[[0.0,\"#0d0887\"],[0.1111111111111111,\"#46039f\"],[0.2222222222222222,\"#7201a8\"],[0.3333333333333333,\"#9c179e\"],[0.4444444444444444,\"#bd3786\"],[0.5555555555555556,\"#d8576b\"],[0.6666666666666666,\"#ed7953\"],[0.7777777777777778,\"#fb9f3a\"],[0.8888888888888888,\"#fdca26\"],[1.0,\"#f0f921\"]],\"type\":\"heatmap\"}],\"heatmapgl\":[{\"colorbar\":{\"outlinewidth\":0,\"ticks\":\"\"},\"colorscale\":[[0.0,\"#0d0887\"],[0.1111111111111111,\"#46039f\"],[0.2222222222222222,\"#7201a8\"],[0.3333333333333333,\"#9c179e\"],[0.4444444444444444,\"#bd3786\"],[0.5555555555555556,\"#d8576b\"],[0.6666666666666666,\"#ed7953\"],[0.7777777777777778,\"#fb9f3a\"],[0.8888888888888888,\"#fdca26\"],[1.0,\"#f0f921\"]],\"type\":\"heatmapgl\"}],\"histogram\":[{\"marker\":{\"pattern\":{\"fillmode\":\"overlay\",\"size\":10,\"solidity\":0.2}},\"type\":\"histogram\"}],\"histogram2d\":[{\"colorbar\":{\"outlinewidth\":0,\"ticks\":\"\"},\"colorscale\":[[0.0,\"#0d0887\"],[0.1111111111111111,\"#46039f\"],[0.2222222222222222,\"#7201a8\"],[0.3333333333333333,\"#9c179e\"],[0.4444444444444444,\"#bd3786\"],[0.5555555555555556,\"#d8576b\"],[0.6666666666666666,\"#ed7953\"],[0.7777777777777778,\"#fb9f3a\"],[0.8888888888888888,\"#fdca26\"],[1.0,\"#f0f921\"]],\"type\":\"histogram2d\"}],\"histogram2dcontour\":[{\"colorbar\":{\"outlinewidth\":0,\"ticks\":\"\"},\"colorscale\":[[0.0,\"#0d0887\"],[0.1111111111111111,\"#46039f\"],[0.2222222222222222,\"#7201a8\"],[0.3333333333333333,\"#9c179e\"],[0.4444444444444444,\"#bd3786\"],[0.5555555555555556,\"#d8576b\"],[0.6666666666666666,\"#ed7953\"],[0.7777777777777778,\"#fb9f3a\"],[0.8888888888888888,\"#fdca26\"],[1.0,\"#f0f921\"]],\"type\":\"histogram2dcontour\"}],\"mesh3d\":[{\"colorbar\":{\"outlinewidth\":0,\"ticks\":\"\"},\"type\":\"mesh3d\"}],\"parcoords\":[{\"line\":{\"colorbar\":{\"outlinewidth\":0,\"ticks\":\"\"}},\"type\":\"parcoords\"}],\"pie\":[{\"automargin\":true,\"type\":\"pie\"}],\"scatter\":[{\"marker\":{\"colorbar\":{\"outlinewidth\":0,\"ticks\":\"\"}},\"type\":\"scatter\"}],\"scatter3d\":[{\"line\":{\"colorbar\":{\"outlinewidth\":0,\"ticks\":\"\"}},\"marker\":{\"colorbar\":{\"outlinewidth\":0,\"ticks\":\"\"}},\"type\":\"scatter3d\"}],\"scattercarpet\":[{\"marker\":{\"colorbar\":{\"outlinewidth\":0,\"ticks\":\"\"}},\"type\":\"scattercarpet\"}],\"scattergeo\":[{\"marker\":{\"colorbar\":{\"outlinewidth\":0,\"ticks\":\"\"}},\"type\":\"scattergeo\"}],\"scattergl\":[{\"marker\":{\"colorbar\":{\"outlinewidth\":0,\"ticks\":\"\"}},\"type\":\"scattergl\"}],\"scattermapbox\":[{\"marker\":{\"colorbar\":{\"outlinewidth\":0,\"ticks\":\"\"}},\"type\":\"scattermapbox\"}],\"scatterpolar\":[{\"marker\":{\"colorbar\":{\"outlinewidth\":0,\"ticks\":\"\"}},\"type\":\"scatterpolar\"}],\"scatterpolargl\":[{\"marker\":{\"colorbar\":{\"outlinewidth\":0,\"ticks\":\"\"}},\"type\":\"scatterpolargl\"}],\"scatterternary\":[{\"marker\":{\"colorbar\":{\"outlinewidth\":0,\"ticks\":\"\"}},\"type\":\"scatterternary\"}],\"surface\":[{\"colorbar\":{\"outlinewidth\":0,\"ticks\":\"\"},\"colorscale\":[[0.0,\"#0d0887\"],[0.1111111111111111,\"#46039f\"],[0.2222222222222222,\"#7201a8\"],[0.3333333333333333,\"#9c179e\"],[0.4444444444444444,\"#bd3786\"],[0.5555555555555556,\"#d8576b\"],[0.6666666666666666,\"#ed7953\"],[0.7777777777777778,\"#fb9f3a\"],[0.8888888888888888,\"#fdca26\"],[1.0,\"#f0f921\"]],\"type\":\"surface\"}],\"table\":[{\"cells\":{\"fill\":{\"color\":\"#EBF0F8\"},\"line\":{\"color\":\"white\"}},\"header\":{\"fill\":{\"color\":\"#C8D4E3\"},\"line\":{\"color\":\"white\"}},\"type\":\"table\"}]},\"layout\":{\"annotationdefaults\":{\"arrowcolor\":\"#2a3f5f\",\"arrowhead\":0,\"arrowwidth\":1},\"autotypenumbers\":\"strict\",\"coloraxis\":{\"colorbar\":{\"outlinewidth\":0,\"ticks\":\"\"}},\"colorscale\":{\"diverging\":[[0,\"#8e0152\"],[0.1,\"#c51b7d\"],[0.2,\"#de77ae\"],[0.3,\"#f1b6da\"],[0.4,\"#fde0ef\"],[0.5,\"#f7f7f7\"],[0.6,\"#e6f5d0\"],[0.7,\"#b8e186\"],[0.8,\"#7fbc41\"],[0.9,\"#4d9221\"],[1,\"#276419\"]],\"sequential\":[[0.0,\"#0d0887\"],[0.1111111111111111,\"#46039f\"],[0.2222222222222222,\"#7201a8\"],[0.3333333333333333,\"#9c179e\"],[0.4444444444444444,\"#bd3786\"],[0.5555555555555556,\"#d8576b\"],[0.6666666666666666,\"#ed7953\"],[0.7777777777777778,\"#fb9f3a\"],[0.8888888888888888,\"#fdca26\"],[1.0,\"#f0f921\"]],\"sequentialminus\":[[0.0,\"#0d0887\"],[0.1111111111111111,\"#46039f\"],[0.2222222222222222,\"#7201a8\"],[0.3333333333333333,\"#9c179e\"],[0.4444444444444444,\"#bd3786\"],[0.5555555555555556,\"#d8576b\"],[0.6666666666666666,\"#ed7953\"],[0.7777777777777778,\"#fb9f3a\"],[0.8888888888888888,\"#fdca26\"],[1.0,\"#f0f921\"]]},\"colorway\":[\"#636efa\",\"#EF553B\",\"#00cc96\",\"#ab63fa\",\"#FFA15A\",\"#19d3f3\",\"#FF6692\",\"#B6E880\",\"#FF97FF\",\"#FECB52\"],\"font\":{\"color\":\"#2a3f5f\"},\"geo\":{\"bgcolor\":\"white\",\"lakecolor\":\"white\",\"landcolor\":\"#E5ECF6\",\"showlakes\":true,\"showland\":true,\"subunitcolor\":\"white\"},\"hoverlabel\":{\"align\":\"left\"},\"hovermode\":\"closest\",\"mapbox\":{\"style\":\"light\"},\"paper_bgcolor\":\"white\",\"plot_bgcolor\":\"#E5ECF6\",\"polar\":{\"angularaxis\":{\"gridcolor\":\"white\",\"linecolor\":\"white\",\"ticks\":\"\"},\"bgcolor\":\"#E5ECF6\",\"radialaxis\":{\"gridcolor\":\"white\",\"linecolor\":\"white\",\"ticks\":\"\"}},\"scene\":{\"xaxis\":{\"backgroundcolor\":\"#E5ECF6\",\"gridcolor\":\"white\",\"gridwidth\":2,\"linecolor\":\"white\",\"showbackground\":true,\"ticks\":\"\",\"zerolinecolor\":\"white\"},\"yaxis\":{\"backgroundcolor\":\"#E5ECF6\",\"gridcolor\":\"white\",\"gridwidth\":2,\"linecolor\":\"white\",\"showbackground\":true,\"ticks\":\"\",\"zerolinecolor\":\"white\"},\"zaxis\":{\"backgroundcolor\":\"#E5ECF6\",\"gridcolor\":\"white\",\"gridwidth\":2,\"linecolor\":\"white\",\"showbackground\":true,\"ticks\":\"\",\"zerolinecolor\":\"white\"}},\"shapedefaults\":{\"line\":{\"color\":\"#2a3f5f\"}},\"ternary\":{\"aaxis\":{\"gridcolor\":\"white\",\"linecolor\":\"white\",\"ticks\":\"\"},\"baxis\":{\"gridcolor\":\"white\",\"linecolor\":\"white\",\"ticks\":\"\"},\"bgcolor\":\"#E5ECF6\",\"caxis\":{\"gridcolor\":\"white\",\"linecolor\":\"white\",\"ticks\":\"\"}},\"title\":{\"x\":0.05},\"xaxis\":{\"automargin\":true,\"gridcolor\":\"white\",\"linecolor\":\"white\",\"ticks\":\"\",\"title\":{\"standoff\":15},\"zerolinecolor\":\"white\",\"zerolinewidth\":2},\"yaxis\":{\"automargin\":true,\"gridcolor\":\"white\",\"linecolor\":\"white\",\"ticks\":\"\",\"title\":{\"standoff\":15},\"zerolinecolor\":\"white\",\"zerolinewidth\":2}}},\"xaxis\":{\"anchor\":\"y\",\"domain\":[0.0,1.0]},\"yaxis\":{\"anchor\":\"x\",\"domain\":[0.0,1.0]},\"title\":{\"text\":\"Make your prediction, which is the label of each image? The labels are<br> ['plane', 'car', 'bird', 'cat', 'deer', 'dog', 'frog', 'horse', 'ship', 'truck']\"}},                        {\"responsive\": true}                    ).then(function(){\n",
              "                            \n",
              "var gd = document.getElementById('dfe28891-0608-4514-b8e0-db4dfa239f0d');\n",
              "var x = new MutationObserver(function (mutations, observer) {{\n",
              "        var display = window.getComputedStyle(gd).display;\n",
              "        if (!display || display === 'none') {{\n",
              "            console.log([gd, 'removed!']);\n",
              "            Plotly.purge(gd);\n",
              "            observer.disconnect();\n",
              "        }}\n",
              "}});\n",
              "\n",
              "// Listen for the removal of the full notebook cells\n",
              "var notebookContainer = gd.closest('#notebook-container');\n",
              "if (notebookContainer) {{\n",
              "    x.observe(notebookContainer, {childList: true});\n",
              "}}\n",
              "\n",
              "// Listen for the clearing of the current output cell\n",
              "var outputEl = gd.closest('.output');\n",
              "if (outputEl) {{\n",
              "    x.observe(outputEl, {childList: true});\n",
              "}}\n",
              "\n",
              "                        })                };                            </script>        </div>\n",
              "</body>\n",
              "</html>"
            ]
          },
          "metadata": {}
        },
        {
          "output_type": "stream",
          "name": "stdout",
          "text": [
            "Ground truth: ['frog', 'truck', 'truck', 'deer', 'car', 'car']\n"
          ]
        }
      ]
    },
    {
      "cell_type": "markdown",
      "source": [
        "In the following cell some classes are defined:\n",
        "- BasicBlock: in this class the convolutional planar layer are defined with the group p4m\n",
        "- Blotteneck: in this class the convolutional planar layer are defined with the group p4m\n",
        "- ResNet: in this class it is defined the architecture adopted for the network"
      ],
      "metadata": {
        "id": "DpcZWnavjFj8"
      }
    },
    {
      "cell_type": "code",
      "source": [
        "# Here we have the import for using G-CNN\n",
        "from groupy.gconv.pytorch_gconv.splitgconv2d import P4MConvZ2, P4MConvP4M\n",
        "\n",
        "class BasicBlock(nn.Module):\n",
        "    expansion = 1\n",
        "\n",
        "    def __init__(self, in_planes, planes, stride=1):\n",
        "        super(BasicBlock, self).__init__()\n",
        "        self.conv1 = P4MConvP4M(in_planes, planes, kernel_size=3, stride=stride, padding=1, bias=False)\n",
        "        self.bn1 = nn.BatchNorm3d(planes)\n",
        "        self.conv2 = P4MConvP4M(planes, planes, kernel_size=3, stride=1, padding=1, bias=False)\n",
        "        self.bn2 = nn.BatchNorm3d(planes)\n",
        "\n",
        "        self.shortcut = nn.Sequential()\n",
        "        if stride != 1 or in_planes != self.expansion*planes:\n",
        "            self.shortcut = nn.Sequential(\n",
        "                P4MConvP4M(in_planes, self.expansion*planes, kernel_size=1, stride=stride, bias=False),\n",
        "                nn.BatchNorm3d(self.expansion*planes)\n",
        "            )\n",
        "\n",
        "    def forward(self, x):\n",
        "        out = F.relu(self.bn1(self.conv1(x)))\n",
        "        out = self.bn2(self.conv2(out))\n",
        "        out += self.shortcut(x)\n",
        "        out = F.relu(out)\n",
        "        return out\n",
        "\n",
        "\n",
        "class Bottleneck(nn.Module):\n",
        "    expansion = 4\n",
        "\n",
        "    def __init__(self, in_planes, planes, stride=1):\n",
        "        super(Bottleneck, self).__init__()\n",
        "        self.conv1 = P4MConvP4M(in_planes, planes, kernel_size=1, bias=False)\n",
        "        self.bn1 = nn.BatchNorm3d(planes)\n",
        "        self.conv2 = P4MConvP4M(planes, planes, kernel_size=3, stride=stride, padding=1, bias=False)\n",
        "        self.bn2 = nn.BatchNorm3d(planes)\n",
        "        self.conv3 = P4MConvP4M(planes, self.expansion*planes, kernel_size=1, bias=False)\n",
        "        self.bn3 = nn.BatchNorm3d(self.expansion*planes)\n",
        "\n",
        "        self.shortcut = nn.Sequential()\n",
        "        if stride != 1 or in_planes != self.expansion*planes:\n",
        "            self.shortcut = nn.Sequential(\n",
        "                P4MConvP4M(in_planes, self.expansion*planes, kernel_size=1, stride=stride, bias=False),\n",
        "                nn.BatchNorm3d(self.expansion*planes)\n",
        "            )\n",
        "\n",
        "    def forward(self, x):\n",
        "        out = F.relu(self.bn1(self.conv1(x)))\n",
        "        out = F.relu(self.bn2(self.conv2(out)))\n",
        "        out = self.bn3(self.conv3(out))\n",
        "        out += self.shortcut(x)\n",
        "        out = F.relu(out)\n",
        "        return out\n",
        "\n",
        "\n",
        "class ResNet(nn.Module):\n",
        "    def __init__(self, block, num_blocks, num_classes=10):\n",
        "        super(ResNet, self).__init__()\n",
        "        self.in_planes = 23\n",
        "\n",
        "        self.conv1 = P4MConvZ2(3, 23, kernel_size=3, stride=1, padding=1, bias=False)\n",
        "        self.bn1 = nn.BatchNorm3d(23)\n",
        "        self.layer1 = self._make_layer(block, 23, num_blocks[0], stride=1)\n",
        "        self.layer2 = self._make_layer(block, 45, num_blocks[1], stride=2)\n",
        "        self.layer3 = self._make_layer(block, 91, num_blocks[2], stride=2)\n",
        "        self.layer4 = self._make_layer(block, 181, num_blocks[3], stride=2)\n",
        "        self.linear = nn.Linear(181*8*block.expansion, num_classes)\n",
        "\n",
        "    def _make_layer(self, block, planes, num_blocks, stride):\n",
        "        strides = [stride] + [1]*(num_blocks-1)\n",
        "        layers = []\n",
        "        for stride in strides:\n",
        "            layers.append(block(self.in_planes, planes, stride))\n",
        "            self.in_planes = planes * block.expansion\n",
        "        return nn.Sequential(*layers)\n",
        "\n",
        "    def forward(self, x):\n",
        "        out = F.relu(self.bn1(self.conv1(x)))\n",
        "        out = self.layer1(out)\n",
        "        out = self.layer2(out)\n",
        "        out = self.layer3(out)\n",
        "        out = self.layer4(out)\n",
        "        outs = out.size()\n",
        "        out = out.view(outs[0], outs[1]*outs[2], outs[3], outs[4])\n",
        "        out = F.avg_pool2d(out, 4)\n",
        "        out = out.view(out.size(0), -1)\n",
        "        out = self.linear(out)\n",
        "        return out\n",
        "\n",
        "\n",
        "def ResNet18():\n",
        "    return ResNet(BasicBlock, [2,2,2,2])"
      ],
      "metadata": {
        "id": "FFzZvBK27h4m"
      },
      "execution_count": null,
      "outputs": []
    },
    {
      "cell_type": "markdown",
      "source": [
        "As known a Deep Learning algorithm is divided into two main phases:\n",
        "- Training phase\n",
        "- Testing phase\n",
        "\n",
        "The train on the model was done on Kaggle (I suggest to see it [notebook](https://www.kaggle.com/code/donatostanco/deeplearningproject-cifar10-train) in order to use a speed GPU and also for execution time reason. So in the next cell are defined the functions for the train and the test.\n",
        "\n"
      ],
      "metadata": {
        "id": "qlHf2ifCthJC"
      }
    },
    {
      "cell_type": "code",
      "source": [
        "# We want to print the training loss every log_freq batches\n",
        "log_freq = len(trainset)//128  # default \n",
        "\n",
        "# This the train function used to train the model\n",
        "def train(epoch, net, optimizer, loss_func, log_freq=log_freq):\n",
        "    running_loss = 0.0\n",
        "    for i, data in enumerate(trainloader, start=1):\n",
        "        # get the inputs\n",
        "        inputs, labels = data\n",
        "        inputs, labels = inputs.to(device), labels.to(device)\n",
        "\n",
        "        # zero the parameter gradients\n",
        "        optimizer.zero_grad()\n",
        "\n",
        "        # forward + backward + optimize\n",
        "        outputs = net(inputs)\n",
        "        loss = loss_func(outputs, labels)\n",
        "        loss.backward()\n",
        "        optimizer.step()\n",
        "\n",
        "        # print statistics\n",
        "        running_loss += loss.item()\n",
        "        if (i) % log_freq == 0:    # print every log_freq mini-batches\n",
        "            print('[Epoch : %d, Iter: %5d] loss: %.3f' %\n",
        "                  (epoch + 1, i, running_loss / log_freq))\n",
        "            running_loss = 0.0\n",
        "    return running_loss / log_freq\n",
        "\n",
        "# This is the test function used to test the model\n",
        "def test(net, train_data=False):\n",
        "    if train_data:\n",
        "        print(\"Accuracy on training data\")\n",
        "        dataloader = trainloader\n",
        "    else:\n",
        "        print(\"Accuracy on test data\")\n",
        "        dataloader = testloader\n",
        "    class_correct = list(0. for i in range(10))\n",
        "    class_total = list(0. for i in range(10))\n",
        "    with torch.no_grad():\n",
        "        for batch_idx, data in enumerate(dataloader):\n",
        "            if batch_idx == len(testloader):\n",
        "                break\n",
        "            inputs, labels = data\n",
        "            inputs, labels = inputs.to(device), labels.to(device)\n",
        "            output = net(inputs)\n",
        "            _, predicted = torch.max(output, 1)\n",
        "            c = (predicted == labels).squeeze()\n",
        "            for i in range(len(labels)):\n",
        "                label = labels[i]\n",
        "                class_correct[label] += c[i].item()\n",
        "                class_total[label] += 1\n",
        "\n",
        "\n",
        "    for i in range(10):\n",
        "        print('Accuracy of %5s : %.2f %%' % (\n",
        "            classes[i], 100 * class_correct[i] / class_total[i]))\n",
        "\n",
        "    test_score = np.mean([100 * class_correct[i] / class_total[i] for i in range(10)])\n",
        "    print(test_score)\n",
        "    return test_score"
      ],
      "metadata": {
        "id": "9bZ47ZXH-XhK"
      },
      "execution_count": null,
      "outputs": []
    },
    {
      "cell_type": "code",
      "source": [
        "# In this cell we specify the device to use, GPU if it is available,\n",
        "# CPU otherwise\n",
        "device = torch.device(\"cuda:0\" if torch.cuda.is_available() else \"cpu\")\n",
        "print(device)"
      ],
      "metadata": {
        "id": "Q0Wh9XDrkAkt",
        "colab": {
          "base_uri": "https://localhost:8080/"
        },
        "outputId": "289c60ce-dc5c-4724-efc8-9bf0dff4bdc4"
      },
      "execution_count": null,
      "outputs": [
        {
          "output_type": "stream",
          "name": "stdout",
          "text": [
            "cuda:0\n"
          ]
        }
      ]
    },
    {
      "cell_type": "markdown",
      "source": [
        "As mentioned before the train of the model was done on Kaggle, so in the next cell I simply load the model from my Google Drive."
      ],
      "metadata": {
        "id": "9vU-JHXmhPqK"
      }
    },
    {
      "cell_type": "code",
      "source": [
        "# In this cell we load the model previously trained\n",
        "# and the architecture used as specified above is the ResNet18\n",
        "model = ResNet18()\n",
        "trained_model = torch.load(GDRIVE_DATA_FILE)\n",
        "model.load_state_dict(trained_model['model_state_dict'])\n",
        "print(\"Epoch %d\" % trained_model['epoch'])\n",
        "model.to(device)"
      ],
      "metadata": {
        "id": "vtIEnYuO7zwW",
        "colab": {
          "base_uri": "https://localhost:8080/"
        },
        "outputId": "88367d6c-5152-4357-8b27-b32b8e0b1998"
      },
      "execution_count": null,
      "outputs": [
        {
          "output_type": "stream",
          "name": "stdout",
          "text": [
            "Epoch 139\n"
          ]
        },
        {
          "output_type": "execute_result",
          "data": {
            "text/plain": [
              "ResNet(\n",
              "  (conv1): P4MConvZ2()\n",
              "  (bn1): BatchNorm3d(23, eps=1e-05, momentum=0.1, affine=True, track_running_stats=True)\n",
              "  (layer1): Sequential(\n",
              "    (0): BasicBlock(\n",
              "      (conv1): P4MConvP4M()\n",
              "      (bn1): BatchNorm3d(23, eps=1e-05, momentum=0.1, affine=True, track_running_stats=True)\n",
              "      (conv2): P4MConvP4M()\n",
              "      (bn2): BatchNorm3d(23, eps=1e-05, momentum=0.1, affine=True, track_running_stats=True)\n",
              "      (shortcut): Sequential()\n",
              "    )\n",
              "    (1): BasicBlock(\n",
              "      (conv1): P4MConvP4M()\n",
              "      (bn1): BatchNorm3d(23, eps=1e-05, momentum=0.1, affine=True, track_running_stats=True)\n",
              "      (conv2): P4MConvP4M()\n",
              "      (bn2): BatchNorm3d(23, eps=1e-05, momentum=0.1, affine=True, track_running_stats=True)\n",
              "      (shortcut): Sequential()\n",
              "    )\n",
              "  )\n",
              "  (layer2): Sequential(\n",
              "    (0): BasicBlock(\n",
              "      (conv1): P4MConvP4M()\n",
              "      (bn1): BatchNorm3d(45, eps=1e-05, momentum=0.1, affine=True, track_running_stats=True)\n",
              "      (conv2): P4MConvP4M()\n",
              "      (bn2): BatchNorm3d(45, eps=1e-05, momentum=0.1, affine=True, track_running_stats=True)\n",
              "      (shortcut): Sequential(\n",
              "        (0): P4MConvP4M()\n",
              "        (1): BatchNorm3d(45, eps=1e-05, momentum=0.1, affine=True, track_running_stats=True)\n",
              "      )\n",
              "    )\n",
              "    (1): BasicBlock(\n",
              "      (conv1): P4MConvP4M()\n",
              "      (bn1): BatchNorm3d(45, eps=1e-05, momentum=0.1, affine=True, track_running_stats=True)\n",
              "      (conv2): P4MConvP4M()\n",
              "      (bn2): BatchNorm3d(45, eps=1e-05, momentum=0.1, affine=True, track_running_stats=True)\n",
              "      (shortcut): Sequential()\n",
              "    )\n",
              "  )\n",
              "  (layer3): Sequential(\n",
              "    (0): BasicBlock(\n",
              "      (conv1): P4MConvP4M()\n",
              "      (bn1): BatchNorm3d(91, eps=1e-05, momentum=0.1, affine=True, track_running_stats=True)\n",
              "      (conv2): P4MConvP4M()\n",
              "      (bn2): BatchNorm3d(91, eps=1e-05, momentum=0.1, affine=True, track_running_stats=True)\n",
              "      (shortcut): Sequential(\n",
              "        (0): P4MConvP4M()\n",
              "        (1): BatchNorm3d(91, eps=1e-05, momentum=0.1, affine=True, track_running_stats=True)\n",
              "      )\n",
              "    )\n",
              "    (1): BasicBlock(\n",
              "      (conv1): P4MConvP4M()\n",
              "      (bn1): BatchNorm3d(91, eps=1e-05, momentum=0.1, affine=True, track_running_stats=True)\n",
              "      (conv2): P4MConvP4M()\n",
              "      (bn2): BatchNorm3d(91, eps=1e-05, momentum=0.1, affine=True, track_running_stats=True)\n",
              "      (shortcut): Sequential()\n",
              "    )\n",
              "  )\n",
              "  (layer4): Sequential(\n",
              "    (0): BasicBlock(\n",
              "      (conv1): P4MConvP4M()\n",
              "      (bn1): BatchNorm3d(181, eps=1e-05, momentum=0.1, affine=True, track_running_stats=True)\n",
              "      (conv2): P4MConvP4M()\n",
              "      (bn2): BatchNorm3d(181, eps=1e-05, momentum=0.1, affine=True, track_running_stats=True)\n",
              "      (shortcut): Sequential(\n",
              "        (0): P4MConvP4M()\n",
              "        (1): BatchNorm3d(181, eps=1e-05, momentum=0.1, affine=True, track_running_stats=True)\n",
              "      )\n",
              "    )\n",
              "    (1): BasicBlock(\n",
              "      (conv1): P4MConvP4M()\n",
              "      (bn1): BatchNorm3d(181, eps=1e-05, momentum=0.1, affine=True, track_running_stats=True)\n",
              "      (conv2): P4MConvP4M()\n",
              "      (bn2): BatchNorm3d(181, eps=1e-05, momentum=0.1, affine=True, track_running_stats=True)\n",
              "      (shortcut): Sequential()\n",
              "    )\n",
              "  )\n",
              "  (linear): Linear(in_features=1448, out_features=10, bias=True)\n",
              ")"
            ]
          },
          "metadata": {},
          "execution_count": 12
        }
      ]
    },
    {
      "cell_type": "markdown",
      "source": [
        "In the following cell I do the test of the model and we can observe that an accuracy of **94.26%** was reached."
      ],
      "metadata": {
        "id": "kfPZjPJBhYqP"
      }
    },
    {
      "cell_type": "code",
      "source": [
        "# In this cell we test the model\n",
        "model.train()\n",
        "test(model, True)\n",
        "test(model)"
      ],
      "metadata": {
        "id": "os9nOwkz8Lnm",
        "colab": {
          "base_uri": "https://localhost:8080/"
        },
        "outputId": "6255a7b1-a00c-4af7-9d2d-2cebe11d1c70"
      },
      "execution_count": null,
      "outputs": [
        {
          "output_type": "stream",
          "name": "stdout",
          "text": [
            "Accuracy on training data\n",
            "Accuracy of plane : 100.00 %\n",
            "Accuracy of   car : 100.00 %\n",
            "Accuracy of  bird : 100.00 %\n",
            "Accuracy of   cat : 100.00 %\n",
            "Accuracy of  deer : 100.00 %\n",
            "Accuracy of   dog : 100.00 %\n",
            "Accuracy of  frog : 100.00 %\n",
            "Accuracy of horse : 100.00 %\n",
            "Accuracy of  ship : 100.00 %\n",
            "Accuracy of truck : 100.00 %\n",
            "100.0\n",
            "Accuracy on test data\n",
            "Accuracy of plane : 95.60 %\n",
            "Accuracy of   car : 97.00 %\n",
            "Accuracy of  bird : 92.80 %\n",
            "Accuracy of   cat : 89.00 %\n",
            "Accuracy of  deer : 94.10 %\n",
            "Accuracy of   dog : 89.60 %\n",
            "Accuracy of  frog : 96.50 %\n",
            "Accuracy of horse : 95.70 %\n",
            "Accuracy of  ship : 96.80 %\n",
            "Accuracy of truck : 95.50 %\n",
            "94.25999999999999\n"
          ]
        },
        {
          "output_type": "execute_result",
          "data": {
            "text/plain": [
              "94.25999999999999"
            ]
          },
          "metadata": {},
          "execution_count": 13
        }
      ]
    }
  ]
}